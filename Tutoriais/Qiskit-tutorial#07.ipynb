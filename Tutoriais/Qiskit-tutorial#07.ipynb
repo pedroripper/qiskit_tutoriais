{
 "cells": [
  {
   "cell_type": "markdown",
   "metadata": {},
   "source": [
    "# Qiskit Tutorial 7 - Achando a unitária que representa as operações"
   ]
  },
  {
   "cell_type": "code",
   "execution_count": 28,
   "metadata": {},
   "outputs": [],
   "source": [
    "from qiskit import *\n",
    "import numpy as np"
   ]
  },
  {
   "cell_type": "code",
   "execution_count": 29,
   "metadata": {},
   "outputs": [
    {
     "data": {
      "image/png": "[encoded data removed]",
      "text/plain": [
       "<Figure size 261.032x204.68 with 1 Axes>"
      ]
     },
     "execution_count": 29,
     "metadata": {},
     "output_type": "execute_result"
    }
   ],
   "source": [
    "circuito = QuantumCircuit(2,2)\n",
    "circuito.x(0)\n",
    "circuito.z(0)\n",
    "circuito.h(1)\n",
    "# circuito.measure([0,1],[0,1])\n",
    "circuito.draw(output = 'mpl')"
   ]
  },
  {
   "cell_type": "code",
   "execution_count": 31,
   "metadata": {},
   "outputs": [
    {
     "name": "stdout",
     "output_type": "stream",
     "text": [
      "[[ 0.        +0.00000000e+00j  0.70710678+0.00000000e+00j\n",
      "   0.        +0.00000000e+00j  0.70710678-8.65956056e-17j]\n",
      " [-0.70710678+0.00000000e+00j -0.        +0.00000000e+00j\n",
      "  -0.70710678+8.65956056e-17j -0.        +0.00000000e+00j]\n",
      " [ 0.        +0.00000000e+00j  0.70710678+0.00000000e+00j\n",
      "   0.        +0.00000000e+00j -0.70710678+8.65956056e-17j]\n",
      " [-0.70710678+0.00000000e+00j  0.        +0.00000000e+00j\n",
      "   0.70710678-8.65956056e-17j  0.        +0.00000000e+00j]]\n"
     ]
    }
   ],
   "source": [
    "# Podemos encontrar a matriz unitária que representa as operacoes no circuito\n",
    "\n",
    "backend = Aer.get_backend('unitary_simulator')\n",
    "job = execute(circuito, backend)\n",
    "resultado = job.result()\n",
    "unitaria = resultado.get_unitary()\n",
    "\n",
    "print(unitaria)"
   ]
  }
 ],
 "metadata": {
  "kernelspec": {
   "display_name": "Python 3",
   "language": "python",
   "name": "python3"
  },
  "language_info": {
   "codemirror_mode": {
    "name": "ipython",
    "version": 3
   },
   "file_extension": ".py",
   "mimetype": "text/x-python",
   "name": "python",
   "nbconvert_exporter": "python",
   "pygments_lexer": "ipython3",
   "version": "3.8.5"
  }
 },
 "nbformat": 4,
 "nbformat_minor": 4
}
