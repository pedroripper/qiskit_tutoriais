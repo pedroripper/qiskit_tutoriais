{
 "cells": [
  {
   "cell_type": "markdown",
   "metadata": {},
   "source": [
    "# Qiskit Tutorial 1 - Criando o primeiro circuito\n",
    "### Tutorial de criação de um circuito quântico simples de 2 qubits\n",
    "Criando um circuito quântico que não faz nada"
   ]
  },
  {
   "cell_type": "code",
   "execution_count": 28,
   "metadata": {},
   "outputs": [],
   "source": [
    "# Importando módulos\n",
    "from qiskit import *"
   ]
  },
  {
   "cell_type": "code",
   "execution_count": 24,
   "metadata": {},
   "outputs": [],
   "source": [
    "# Uma das formas de se inicializar um circuito quântico é usando \"QuantumCircuit(x,y)\" \n",
    "# que é armazenado em uma variável. \n",
    "\n",
    "# Nele, onde x é o número de qubits \n",
    "# e y o número de bits clássicos.\n",
    "\n",
    "# Usamos os bits clássicos para armazenar as medições dos qubits.\n",
    "\n",
    "nQubits = 2\n",
    "nBits = 2\n",
    "circuitoQuantico = QuantumCircuit(nQubits, nBits)\n",
    "\n",
    "# Nesse caso cada qubit tem o seu bit aonde será armazenado seu valor após a medição\n",
    "# (o primeiro bit armazena o valor do primeiro qubit, o segundo bit do segundo qubit,...)"
   ]
  },
  {
   "cell_type": "code",
   "execution_count": 25,
   "metadata": {},
   "outputs": [
    {
     "data": {
      "image/png": "[encoded data removed]",
      "text/plain": [
       "<Figure size 178.192x204.68 with 1 Axes>"
      ]
     },
     "execution_count": 25,
     "metadata": {},
     "output_type": "execute_result"
    }
   ],
   "source": [
    "# Logo depois de inicializar o circuito e durante todo o processo de adicionar as operações desejadas,\n",
    "# podemos visualizar o circuito, chamando a função draw(output = 'mpl') pertencente a variável do circuito quântico\n",
    "\n",
    "circuitoQuantico.draw(output = 'mpl')"
   ]
  },
  {
   "cell_type": "code",
   "execution_count": 26,
   "metadata": {},
   "outputs": [
    {
     "data": {
      "text/plain": [
       "<qiskit.circuit.instructionset.InstructionSet at 0x125004950>"
      ]
     },
     "execution_count": 26,
     "metadata": {},
     "output_type": "execute_result"
    }
   ],
   "source": [
    "# Depois de realizar as operações desejadas nos qubits, medimos chamando a função measure(x,y),\n",
    "# pertencente a variável de circuito quântico.\n",
    "\n",
    "# Nele o x e y são os ÍNDICES do qubit e bit respectivamente(lembrar que o índice começa a contar em 0).\n",
    "\n",
    "circuitoQuantico.measure(0,0)\n",
    "circuitoQuantico.measure(1,1)\n"
   ]
  },
  {
   "cell_type": "code",
   "execution_count": 27,
   "metadata": {},
   "outputs": [
    {
     "data": {
      "image/png": "[encoded data removed]",
      "text/plain": [
       "<Figure size 298.592x204.68 with 1 Axes>"
      ]
     },
     "execution_count": 27,
     "metadata": {},
     "output_type": "execute_result"
    }
   ],
   "source": [
    "# Chamando o draw() para exibir novamente o circuito, mas agora exibindo a medições\n",
    "\n",
    "circuitoQuantico.draw(output = 'mpl')"
   ]
  }
 ],
 "metadata": {
  "kernelspec": {
   "display_name": "Python 3",
   "language": "python",
   "name": "python3"
  },
  "language_info": {
   "codemirror_mode": {
    "name": "ipython",
    "version": 3
   },
   "file_extension": ".py",
   "mimetype": "text/x-python",
   "name": "python",
   "nbconvert_exporter": "python",
   "pygments_lexer": "ipython3",
   "version": "3.7.7"
  }
 },
 "nbformat": 4,
 "nbformat_minor": 4
}
