{
 "cells": [
  {
   "cell_type": "markdown",
   "metadata": {},
   "source": [
    "# Qiskit Tutorial 2 - Adicionando portas e executando circuito\n",
    "### Tutorial de criação de um circuito quântico simples de 2 qubits\n",
    "Criando um circuito quântico de dois qubits com portas quânticas para depois ser executado em um simulador\n",
    "e num computador quântico real da IBM"
   ]
  },
  {
   "cell_type": "code",
   "execution_count": 19,
   "metadata": {},
   "outputs": [],
   "source": [
    "# Importando módulos\n",
    "from qiskit import *\n",
    "from qiskit.tools.visualization import plot_histogram"
   ]
  },
  {
   "cell_type": "code",
   "execution_count": 20,
   "metadata": {},
   "outputs": [],
   "source": [
    "# Inicializando o circuito\n",
    "\n",
    "nQubits = 2\n",
    "nBits = 2\n",
    "circuitoQuantico = QuantumCircuit(nQubits, nBits)"
   ]
  },
  {
   "cell_type": "code",
   "execution_count": 21,
   "metadata": {},
   "outputs": [
    {
     "data": {
      "text/plain": [
       "<qiskit.circuit.instructionset.InstructionSet at 0x128403350>"
      ]
     },
     "execution_count": 21,
     "metadata": {},
     "output_type": "execute_result"
    }
   ],
   "source": [
    "# Para aplicar uma porta no circuito devemos seguir o seguinte exemplo onde aplicamos uma Hadamard Gate\n",
    "\n",
    "circuitoQuantico.h(0)\n",
    "\n",
    "# Nesse exemplo h() é a função que usamos para aplicar uma Hadamard Gate e o argumento é o índice do qubit\n",
    "# onde se deseja aplica a porta"
   ]
  },
  {
   "cell_type": "code",
   "execution_count": 22,
   "metadata": {},
   "outputs": [
    {
     "data": {
      "image/png": "[encoded data removed]",
      "text/plain": [
       "<Figure size 238.392x204.68 with 1 Axes>"
      ]
     },
     "execution_count": 22,
     "metadata": {},
     "output_type": "execute_result"
    }
   ],
   "source": [
    "# Podemos ver ao chamar draw() que a Hadamard Gate fica no qubit desejado\n",
    "\n",
    "circuitoQuantico.draw(output = 'mpl')"
   ]
  },
  {
   "cell_type": "code",
   "execution_count": 23,
   "metadata": {},
   "outputs": [
    {
     "data": {
      "text/plain": [
       "<qiskit.circuit.instructionset.InstructionSet at 0x128621b10>"
      ]
     },
     "execution_count": 23,
     "metadata": {},
     "output_type": "execute_result"
    }
   ],
   "source": [
    "# Podemos aplicar também portas que envolvem mais de um qubit, como a CNOT(Controlled NOT) Gate\n",
    "\n",
    "circuitoQuantico.cx(0,1)"
   ]
  },
  {
   "cell_type": "code",
   "execution_count": 24,
   "metadata": {},
   "outputs": [
    {
     "data": {
      "image/png": "[encoded data removed]",
      "text/plain": [
       "<Figure size 298.592x204.68 with 1 Axes>"
      ]
     },
     "execution_count": 24,
     "metadata": {},
     "output_type": "execute_result"
    }
   ],
   "source": [
    "# Visualização do circuito após chamar a CNOT Gate\n",
    "\n",
    "circuitoQuantico.draw(output = 'mpl')"
   ]
  },
  {
   "cell_type": "code",
   "execution_count": 25,
   "metadata": {},
   "outputs": [
    {
     "data": {
      "text/plain": [
       "<qiskit.circuit.instructionset.InstructionSet at 0x128615510>"
      ]
     },
     "execution_count": 25,
     "metadata": {},
     "output_type": "execute_result"
    }
   ],
   "source": [
    "# Agora podemos medir esses qubits após as operações chamando measure()\n",
    "\n",
    "circuitoQuantico.measure(0,0)\n",
    "circuitoQuantico.measure(1,1)"
   ]
  },
  {
   "cell_type": "code",
   "execution_count": 26,
   "metadata": {},
   "outputs": [
    {
     "data": {
      "image/png": "[encoded data removed]",
      "text/plain": [
       "<Figure size 418.992x204.68 with 1 Axes>"
      ]
     },
     "execution_count": 26,
     "metadata": {},
     "output_type": "execute_result"
    }
   ],
   "source": [
    "# Visualização do circuito após chamar measure()\n",
    "\n",
    "circuitoQuantico.draw(output = 'mpl')"
   ]
  },
  {
   "cell_type": "markdown",
   "metadata": {},
   "source": [
    "### Simulando o circuito"
   ]
  },
  {
   "cell_type": "code",
   "execution_count": 27,
   "metadata": {},
   "outputs": [],
   "source": [
    "# Para simular um circuito quântico usamos um elemento do Qiskit chamado Aer, que tem como \n",
    "# uma de suas funções a simulação de circuitos\n",
    "\n",
    "simulador = Aer.get_backend('qasm_simulator')"
   ]
  },
  {
   "cell_type": "code",
   "execution_count": 28,
   "metadata": {},
   "outputs": [],
   "source": [
    "# Para executar o circuito chamamos execute() que leva como argumento o circuito a ser executado e o \n",
    "# backend(aonde o circuito vai ser executado) que nesse caso é no simulador do Aer\n",
    "\n",
    "resultado = execute(circuitoQuantico, backend = simulador).result()\n",
    "\n",
    "# Usamos a variável resultado para guardar os dados do resultado"
   ]
  },
  {
   "cell_type": "code",
   "execution_count": 29,
   "metadata": {},
   "outputs": [
    {
     "data": {
      "image/png": "[encoded data removed]",
      "text/plain": [
       "<Figure size 504x360 with 1 Axes>"
      ]
     },
     "execution_count": 29,
     "metadata": {},
     "output_type": "execute_result"
    }
   ],
   "source": [
    "# Para exibir os resultados chamamos plot_histogram()\n",
    "\n",
    "plot_histogram(resultado.get_counts(circuitoQuantico))"
   ]
  },
  {
   "cell_type": "markdown",
   "metadata": {},
   "source": [
    "### Rodando o circuito em um computador real da IBM"
   ]
  },
  {
   "cell_type": "code",
   "execution_count": 30,
   "metadata": {},
   "outputs": [
    {
     "name": "stderr",
     "output_type": "stream",
     "text": [
      "ibmqfactory.load_account:WARNING:2020-08-28 08:25:02,153: Credentials are already in use. The existing account in the session will be replaced.\n"
     ]
    },
    {
     "data": {
      "text/plain": [
       "<AccountProvider for IBMQ(hub='ibm-q', group='open', project='main')>"
      ]
     },
     "execution_count": 30,
     "metadata": {},
     "output_type": "execute_result"
    }
   ],
   "source": [
    "# Antes de tudo é necessário importar o módulo da IBMQ Experience e carregar a sua conta\n",
    "\n",
    "from qiskit import IBMQ\n",
    "\n",
    "IBMQ.load_account()"
   ]
  },
  {
   "cell_type": "code",
   "execution_count": 31,
   "metadata": {},
   "outputs": [],
   "source": [
    "# Agora precisamos inicializar a variável de provider que vai ser responsável por ter o acesso a \n",
    "# um dos computadores quanticos da IBM\n",
    "\n",
    "provedor = IBMQ.get_provider('ibm-q')"
   ]
  },
  {
   "cell_type": "code",
   "execution_count": 32,
   "metadata": {},
   "outputs": [],
   "source": [
    "# Podemos agora escolher um dos computadores disponíveis da IBM para podermos rodar nosso circuito\n",
    "\n",
    "computadorQuantico = provedor.get_backend('ibmq_16_melbourne')"
   ]
  },
  {
   "cell_type": "code",
   "execution_count": 36,
   "metadata": {},
   "outputs": [],
   "source": [
    "# Para simular no nosso próprio computado tivemos que usar\n",
    "# \" execute(circuitoQuantico, backend = simulador) \"\n",
    "# Agora vamos ter que fazer algo similar\n",
    "\n",
    "executar = execute(circuitoQuantico, backend=computadorQuantico)"
   ]
  },
  {
   "cell_type": "code",
   "execution_count": 38,
   "metadata": {},
   "outputs": [
    {
     "name": "stdout",
     "output_type": "stream",
     "text": [
      "Job Status: job has successfully run\n"
     ]
    }
   ],
   "source": [
    "# Depois de rodar o comando \" execute(circuitoQuantico, backend=computadorQuantico).result() \"\n",
    "# o nosso circuito entra numa fila do computador da IBM que escolhemos roda. Como se fosse uma \n",
    "# lista de pedidos num restaurante para o cozinheiro preparar.\n",
    "\n",
    "# Podemos checar o status do nosso \"pedido\" chamando o job_monitor\n",
    "\n",
    "from qiskit.tools.monitor import job_monitor\n",
    "\n",
    "job_monitor(executar)"
   ]
  },
  {
   "cell_type": "code",
   "execution_count": 39,
   "metadata": {},
   "outputs": [],
   "source": [
    "# Para pegar o resultado do circuito fazemos o seguinte\n",
    "\n",
    "resultado = executar.result()"
   ]
  },
  {
   "cell_type": "code",
   "execution_count": 42,
   "metadata": {},
   "outputs": [
    {
     "data": {
      "image/png": "[encoded data removed]",
      "text/plain": [
       "<Figure size 504x360 with 1 Axes>"
      ]
     },
     "execution_count": 42,
     "metadata": {},
     "output_type": "execute_result"
    }
   ],
   "source": [
    "# Da mesma forma como na simulação no próprio computador podemos exibir os resultados num histograma\n",
    "\n",
    "plot_histogram(resultado.get_counts(circuitoQuantico))"
   ]
  }
 ],
 "metadata": {
  "kernelspec": {
   "display_name": "Python 3",
   "language": "python",
   "name": "python3"
  },
  "language_info": {
   "codemirror_mode": {
    "name": "ipython",
    "version": 3
   },
   "file_extension": ".py",
   "mimetype": "text/x-python",
   "name": "python",
   "nbconvert_exporter": "python",
   "pygments_lexer": "ipython3",
   "version": "3.8.5"
  }
 },
 "nbformat": 4,
 "nbformat_minor": 4
}
